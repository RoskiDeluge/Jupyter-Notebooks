{
 "cells": [
  {
   "cell_type": "code",
   "execution_count": null,
   "id": "d0665bbd-f76d-41e5-b501-ca5f08568a77",
   "metadata": {},
   "outputs": [],
   "source": [
    "# import pandas as pd\n",
    "\n",
    "# import pandas as pd\n",
    "\n",
    "# df = pd.read_csv('datasets/<datafile>.csv')\n",
    "# df.head()"
   ]
  },
  {
   "cell_type": "code",
   "execution_count": 1,
   "id": "3eb95ef0-2112-4842-8dda-ad938af1c9ea",
   "metadata": {},
   "outputs": [],
   "source": [
    "# Data cleaning of csv files in pandas, example\n",
    "\n",
    "# The apply() function on a dataframe will take some arbitrary function you have written\n",
    "# and apply it to either a series (a single column) or DataFrame accross all rows or columns.\n",
    "# Let's write a function that splits a string into two pieces using a single row of data\n",
    "\n",
    "def splitname(row):\n",
    "#     The row is a single Series object which is a single row indexed by column values\n",
    "#     Let's extract the first name and create a new entry in the series\n",
    "    row['First'] = row['President'].split(\" \")[0]\n",
    "#     Let's do the same with the last word in the string\n",
    "    row['Last'] = row['President'].split(\" \")[-1]\n",
    "#     Now we just return the row and the pandas .apply() will take care of merging them back\n",
    "# into the dataframe\n",
    "    return row\n",
    "\n",
    "# Now if we apply this to the dataframe indicating we want to apply it accross columns\n",
    "df = df.apply(splitname, axis='columns')\n",
    "df.head()"
   ]
  },
  {
   "cell_type": "code",
   "execution_count": 2,
   "id": "e4675afd-df72-44e4-9eab-092b71c6b9c0",
   "metadata": {},
   "outputs": [
    {
     "ename": "NameError",
     "evalue": "name 'df' is not defined",
     "output_type": "error",
     "traceback": [
      "\u001b[0;31m---------------------------------------------------------------------------\u001b[0m",
      "\u001b[0;31mNameError\u001b[0m                                 Traceback (most recent call last)",
      "Input \u001b[0;32mIn [2]\u001b[0m, in \u001b[0;36m<cell line: 2>\u001b[0;34m()\u001b[0m\n\u001b[1;32m      1\u001b[0m \u001b[38;5;66;03m# When experimenting we can delete columns\u001b[39;00m\n\u001b[0;32m----> 2\u001b[0m \u001b[38;5;28;01mdel\u001b[39;00m(\u001b[43mdf\u001b[49m[\u001b[38;5;124m'\u001b[39m\u001b[38;5;124mFirst\u001b[39m\u001b[38;5;124m'\u001b[39m])\n\u001b[1;32m      3\u001b[0m \u001b[38;5;28;01mdel\u001b[39;00m(df[\u001b[38;5;124m'\u001b[39m\u001b[38;5;124mLast\u001b[39m\u001b[38;5;124m'\u001b[39m])\n",
      "\u001b[0;31mNameError\u001b[0m: name 'df' is not defined"
     ]
    }
   ],
   "source": [
    "# When experimenting we can delete columns\n",
    "del(df['First'])\n",
    "del(df['Last'])"
   ]
  },
  {
   "cell_type": "code",
   "execution_count": 3,
   "id": "9c903c49-a241-4335-9c2c-836c1b25f5d1",
   "metadata": {},
   "outputs": [
    {
     "ename": "NameError",
     "evalue": "name 'df' is not defined",
     "output_type": "error",
     "traceback": [
      "\u001b[0;31m---------------------------------------------------------------------------\u001b[0m",
      "\u001b[0;31mNameError\u001b[0m                                 Traceback (most recent call last)",
      "Input \u001b[0;32mIn [3]\u001b[0m, in \u001b[0;36m<cell line: 6>\u001b[0;34m()\u001b[0m\n\u001b[1;32m      3\u001b[0m pattern \u001b[38;5;241m=\u001b[39m \u001b[38;5;124m\"\u001b[39m\u001b[38;5;124m(?P<First>^[\u001b[39m\u001b[38;5;124m\\\u001b[39m\u001b[38;5;124mw]*)(?:* )(?P<Last>[\u001b[39m\u001b[38;5;124m\\\u001b[39m\u001b[38;5;124mw]*$)\u001b[39m\u001b[38;5;124m\"\u001b[39m\n\u001b[1;32m      5\u001b[0m \u001b[38;5;66;03m# Now call extract\u001b[39;00m\n\u001b[0;32m----> 6\u001b[0m names \u001b[38;5;241m=\u001b[39m \u001b[43mdf\u001b[49m[\u001b[38;5;124m\"\u001b[39m\u001b[38;5;124mPresident\u001b[39m\u001b[38;5;124m\"\u001b[39m]\u001b[38;5;241m.\u001b[39mstr\u001b[38;5;241m.\u001b[39mextract(pattern)\u001b[38;5;241m.\u001b[39mhead()\n\u001b[1;32m      7\u001b[0m names\n\u001b[1;32m      9\u001b[0m \u001b[38;5;66;03m# And we can copy these into our main dataframe\u001b[39;00m\n",
      "\u001b[0;31mNameError\u001b[0m: name 'df' is not defined"
     ]
    }
   ],
   "source": [
    "# Extract takes a regular expression as input and specifically requires you to set capture groups \n",
    "# that correspond to the output columns you are interested in.\n",
    "pattern = \"(?P<First>^[\\w]*)(?:* )(?P<Last>[\\w]*$)\"\n",
    "\n",
    "# Now call extract\n",
    "names = df[\"President\"].str.extract(pattern).head()\n",
    "names\n",
    "\n",
    "# And we can copy these into our main dataframe\n",
    "df[\"First\"] = names[\"First\"]\n",
    "df[\"Last\"] = names[\"Last\"]\n",
    "df.head()"
   ]
  },
  {
   "cell_type": "code",
   "execution_count": 4,
   "id": "8b53bc68-f410-4d88-8d69-3e9cf73d1f46",
   "metadata": {},
   "outputs": [
    {
     "ename": "NameError",
     "evalue": "name 'df' is not defined",
     "output_type": "error",
     "traceback": [
      "\u001b[0;31m---------------------------------------------------------------------------\u001b[0m",
      "\u001b[0;31mNameError\u001b[0m                                 Traceback (most recent call last)",
      "Input \u001b[0;32mIn [4]\u001b[0m, in \u001b[0;36m<cell line: 3>\u001b[0;34m()\u001b[0m\n\u001b[1;32m      1\u001b[0m \u001b[38;5;66;03m# Now lets move on to cleanin the Born column. First let's get rid of anything that isn't\u001b[39;00m\n\u001b[1;32m      2\u001b[0m \u001b[38;5;66;03m# in the pattern of Month Day and Year\u001b[39;00m\n\u001b[0;32m----> 3\u001b[0m df[\u001b[38;5;124m\"\u001b[39m\u001b[38;5;124mBorn\u001b[39m\u001b[38;5;124m\"\u001b[39m] \u001b[38;5;241m=\u001b[39m \u001b[43mdf\u001b[49m[\u001b[38;5;124m\"\u001b[39m\u001b[38;5;124mBorn\u001b[39m\u001b[38;5;124m\"\u001b[39m]\u001b[38;5;241m.\u001b[39mstr\u001b[38;5;241m.\u001b[39mextract(\u001b[38;5;124m\"\u001b[39m\u001b[38;5;124m([\u001b[39m\u001b[38;5;124m\\\u001b[39m\u001b[38;5;124mw]\u001b[39m\u001b[38;5;132;01m{3}\u001b[39;00m\u001b[38;5;124m [\u001b[39m\u001b[38;5;124m\\\u001b[39m\u001b[38;5;124mw]\u001b[39m\u001b[38;5;124m{\u001b[39m\u001b[38;5;124m1, 2}, [\u001b[39m\u001b[38;5;124m\\\u001b[39m\u001b[38;5;124mw]\u001b[39m\u001b[38;5;132;01m{4}\u001b[39;00m\u001b[38;5;124m)\u001b[39m\u001b[38;5;124m\"\u001b[39m)\n\u001b[1;32m      4\u001b[0m df[\u001b[38;5;124m\"\u001b[39m\u001b[38;5;124mBorn\u001b[39m\u001b[38;5;124m\"\u001b[39m]\u001b[38;5;241m.\u001b[39mhead()\n",
      "\u001b[0;31mNameError\u001b[0m: name 'df' is not defined"
     ]
    }
   ],
   "source": [
    "# Now lets move on to cleanin the Born column. First let's get rid of anything that isn't\n",
    "# in the pattern of Month Day and Year\n",
    "df[\"Born\"] = df[\"Born\"].str.extract(\"([\\w]{3} [\\w]{1, 2}, [\\w]{4})\")\n",
    "df[\"Born\"].head()"
   ]
  },
  {
   "cell_type": "code",
   "execution_count": 5,
   "id": "34e4116d-f120-4345-b8a9-dc325bdbc47f",
   "metadata": {},
   "outputs": [
    {
     "ename": "NameError",
     "evalue": "name 'pd' is not defined",
     "output_type": "error",
     "traceback": [
      "\u001b[0;31m---------------------------------------------------------------------------\u001b[0m",
      "\u001b[0;31mNameError\u001b[0m                                 Traceback (most recent call last)",
      "Input \u001b[0;32mIn [5]\u001b[0m, in \u001b[0;36m<cell line: 5>\u001b[0;34m()\u001b[0m\n\u001b[1;32m      1\u001b[0m \u001b[38;5;66;03m# Pandas has interesting date/time features, that's why Wes McKinney put his efforts\u001b[39;00m\n\u001b[1;32m      2\u001b[0m \u001b[38;5;66;03m# into the library, to deal with financial transactions.\u001b[39;00m\n\u001b[1;32m      3\u001b[0m \u001b[38;5;66;03m# Update the this column to write the data type as well.\u001b[39;00m\n\u001b[0;32m----> 5\u001b[0m df[\u001b[38;5;124m\"\u001b[39m\u001b[38;5;124mBorn\u001b[39m\u001b[38;5;124m\"\u001b[39m] \u001b[38;5;241m=\u001b[39m \u001b[43mpd\u001b[49m\u001b[38;5;241m.\u001b[39mto_datetime(df[\u001b[38;5;124m\"\u001b[39m\u001b[38;5;124mBorn\u001b[39m\u001b[38;5;124m\"\u001b[39m])\n\u001b[1;32m      6\u001b[0m df[\u001b[38;5;124m\"\u001b[39m\u001b[38;5;124mBorn\u001b[39m\u001b[38;5;124m\"\u001b[39m]\u001b[38;5;241m.\u001b[39mhead()\n",
      "\u001b[0;31mNameError\u001b[0m: name 'pd' is not defined"
     ]
    }
   ],
   "source": [
    "# Pandas has interesting date/time features, that's why Wes McKinney put his efforts\n",
    "# into the library, to deal with financial transactions.\n",
    "# Update the this column to write the data type as well.\n",
    "\n",
    "df[\"Born\"] = pd.to_datetime(df[\"Born\"])\n",
    "df[\"Born\"].head()"
   ]
  },
  {
   "cell_type": "code",
   "execution_count": 6,
   "id": "cb7424a4-460a-4487-a328-f3bcbe92e4e3",
   "metadata": {},
   "outputs": [],
   "source": [
    "# Most other columns in a dataframe are cleaned up in the same way as above for the \"Born\" column"
   ]
  },
  {
   "cell_type": "code",
   "execution_count": null,
   "id": "678541c2-a720-492e-a8c8-947d08e8bf7d",
   "metadata": {},
   "outputs": [],
   "source": []
  }
 ],
 "metadata": {
  "kernelspec": {
   "display_name": "Python 3 (ipykernel)",
   "language": "python",
   "name": "python3"
  },
  "language_info": {
   "codemirror_mode": {
    "name": "ipython",
    "version": 3
   },
   "file_extension": ".py",
   "mimetype": "text/x-python",
   "name": "python",
   "nbconvert_exporter": "python",
   "pygments_lexer": "ipython3",
   "version": "3.9.12"
  }
 },
 "nbformat": 4,
 "nbformat_minor": 5
}
