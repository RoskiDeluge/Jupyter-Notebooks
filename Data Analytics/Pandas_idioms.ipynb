{
 "cells": [
  {
   "cell_type": "markdown",
   "id": "2085a91a-0915-499b-bd9e-f6bf2ddf7acd",
   "metadata": {},
   "source": [
    "We can map accross all of the rows in a df using the apply function."
   ]
  },
  {
   "cell_type": "markdown",
   "id": "47b262f0-69f1-4b22-8536-84614430438c",
   "metadata": {},
   "source": [
    "Using the census df example. We have five columns for population estimates, with each column corresponding with one year of estimates. It's quite reasonable to want to create some new columns for minimum or maximum values, and the apply function is an easy way to do this."
   ]
  },
  {
   "cell_type": "markdown",
   "id": "fa202f6c-9d48-4805-894b-eebe94e4a267",
   "metadata": {},
   "source": [
    "First, we need to write a function which takes in a row of data, finds minimum and maximum values, and returns a new row of data. We'll call this function min_max. We can create some small slice of a row by projecting the population columns. Then use NumPy min and max functions, and create a new series where the label values represent the new values we want to apply."
   ]
  },
  {
   "cell_type": "code",
   "execution_count": null,
   "id": "cf1da0ac-fc46-4ad9-8323-4805e05964cd",
   "metadata": {},
   "outputs": [],
   "source": [
    "import pandas as pd\n",
    "import numpy as np"
   ]
  },
  {
   "cell_type": "code",
   "execution_count": null,
   "id": "aa36307c-37de-4b4c-acb7-f2127f762073",
   "metadata": {},
   "outputs": [],
   "source": [
    "def min_max(row):\n",
    "    data = row[['POPESTIMATE2010',\n",
    "                'POPESTIMATE2011',\n",
    "                'POPESTIMATE2012',\n",
    "                'POPESTIMATE2013',]]\n",
    "    return pd.Series({'min': np.min(data), 'max': np.max(data)})"
   ]
  },
  {
   "cell_type": "markdown",
   "id": "d4a5781c-1b67-49a0-8d9f-dc03b5115b6e",
   "metadata": {},
   "source": [
    "Then we just need to call apply on the df."
   ]
  },
  {
   "cell_type": "markdown",
   "id": "67cac4a3-9454-420b-9107-f4008f57c4d9",
   "metadata": {},
   "source": [
    "Apply takes the function and the axis on which to operate as parameters. To apply accross all rows, which is applying on all columns, you pass axis equal to 'columns'."
   ]
  },
  {
   "cell_type": "code",
   "execution_count": null,
   "id": "afef516d-a695-4432-86f6-df187d8cc651",
   "metadata": {},
   "outputs": [],
   "source": [
    "df.apply(min_max, axis='columns').head()"
   ]
  },
  {
   "cell_type": "markdown",
   "id": "df764f2c-f261-4fad-a6c3-f018dd13bf7b",
   "metadata": {},
   "source": [
    "Here's an example where we have a revised version of the min_max function where instead of returning a separate series to display min and max, we add two new columns in the original df to store min and max."
   ]
  },
  {
   "cell_type": "code",
   "execution_count": null,
   "id": "c0eb0f5f-0089-4c2a-afc1-839e809f7c91",
   "metadata": {},
   "outputs": [],
   "source": [
    "def min_max(rows):\n",
    "    data = row[['POPESTIMATE2010',\n",
    "                'POPESTIMATE2011',\n",
    "                'POPESTIMATE2012',\n",
    "                'POPESTIMATE2013',]]\n",
    "    # Create a new entry for max\n",
    "    row['max'] = np.max(data)\n",
    "    # Create a new entry for min\n",
    "    row['min'] = np.min(data)\n",
    "    return row\n",
    "\n",
    "# Now just apply the function\n",
    "df.apply(min_max, axis='columns')"
   ]
  },
  {
   "cell_type": "markdown",
   "id": "b422c51a-45c5-4e59-9953-579e8f0009fb",
   "metadata": {},
   "source": [
    "Apply, however, is rarely used with large function def like we did above. Instead lambdas are used to create succinct scripts. "
   ]
  },
  {
   "cell_type": "code",
   "execution_count": null,
   "id": "448d603b-92f3-4bd7-a984-044b0291c3f6",
   "metadata": {},
   "outputs": [],
   "source": [
    "rows = ['POPESTIMATE2010', 'POPESTIMATE2011', 'POPESTIMATE2012', 'POPESTIMATE2013']\n",
    "# Now we'll just apply this accross the df with a lambda. \n",
    "# default for the axis parameter is 0 for row, use 1 for columm\n",
    "df.apply(lambda x: np.max(x[rows]), axis=1).head()"
   ]
  },
  {
   "cell_type": "code",
   "execution_count": 2,
   "id": "e9218625-a065-4aec-915d-f9561e0e0fae",
   "metadata": {},
   "outputs": [],
   "source": [
    "# Another example of using apply to apply a function to a df then create new column with each row in the new column\n",
    "# containing the return from the function"
   ]
  },
  {
   "cell_type": "code",
   "execution_count": 3,
   "id": "0bc7233c-1819-4a54-ab84-bd8d6fed5683",
   "metadata": {},
   "outputs": [],
   "source": [
    "# Since the original df has a STNAME column with each state as a value for each row, we can create this \n",
    "# customized function to use it later within the apply function.\n",
    "def get_state_region(x):\n",
    "    northeast = ['List of Northeastern states...']\n",
    "    midwest = ['List of Midwestern states...']\n",
    "    south = ['List of Southern states...']\n",
    "    west = ['List of Western states...']\n",
    "    \n",
    "    if x in northeast:\n",
    "        return \"Northeast\"\n",
    "    elif x in midwest:\n",
    "        return \"Midwest\"\n",
    "    elif x in south:\n",
    "        return \"South\"\n",
    "    else:\n",
    "        return \"West\""
   ]
  },
  {
   "cell_type": "markdown",
   "id": "1d22e75c-3e43-442d-bb34-0d18c3eea560",
   "metadata": {},
   "source": [
    "We have the customized function above, let's say we want to create a new column called Region, which shows the state's region. We can use the function and the apply function to do so. The customized function is supposed to work on the state name column STNAME. So we will set the apply function on the state name column and pass the customized function into the apply function."
   ]
  },
  {
   "cell_type": "code",
   "execution_count": null,
   "id": "66f5a264-fecc-43f6-9a32-056ce67d362c",
   "metadata": {},
   "outputs": [],
   "source": [
    "df['state_region'] = df['STNAME'].apply(lambda x: get_state_region(x))"
   ]
  },
  {
   "cell_type": "code",
   "execution_count": null,
   "id": "de7115d0-d102-4f8b-9efd-08ae39745b24",
   "metadata": {},
   "outputs": [],
   "source": [
    "# Let's see the results\n",
    "df[['STNAME', 'state_region']].head()"
   ]
  }
 ],
 "metadata": {
  "kernelspec": {
   "display_name": "Python 3 (ipykernel)",
   "language": "python",
   "name": "python3"
  },
  "language_info": {
   "codemirror_mode": {
    "name": "ipython",
    "version": 3
   },
   "file_extension": ".py",
   "mimetype": "text/x-python",
   "name": "python",
   "nbconvert_exporter": "python",
   "pygments_lexer": "ipython3",
   "version": "3.10.5"
  }
 },
 "nbformat": 4,
 "nbformat_minor": 5
}
